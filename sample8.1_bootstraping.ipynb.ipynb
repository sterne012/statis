{
 "cells": [
  {
   "cell_type": "markdown",
   "metadata": {},
   "source": [
    "## Sample 8.1 a few samples about bootstrap"
   ]
  },
  {
   "cell_type": "code",
   "execution_count": 1,
   "metadata": {},
   "outputs": [],
   "source": [
    "%matplotlib inline\n",
    "#posteior distribution of binomial data\n",
    "import numpy as np\n",
    "import numpy.linalg as nl\n",
    "import scipy.stats as stats\n",
    "import matplotlib.pyplot as plt\n",
    "import matplotlib\n",
    "import astropy.io.fits as fits\n",
    "import scipy.special as special\n",
    "from scipy.optimize import curve_fit\n",
    "\n",
    "matplotlib.rc('xtick', labelsize=12) \n",
    "matplotlib.rc('ytick', labelsize=12) \n",
    "\n",
    "'''\n",
    "Bootstraping function and sample\n",
    "'''\n",
    "def bootstrap(func, x, N, alpha=0.15):\n",
    "    '''\n",
    "    Run a boots\n",
    "    \n",
    "    Parameters:\n",
    "    func: function using x as arguement\n",
    "    x: data\n",
    "    N: number of repeat\n",
    "    alpha: percentile\n",
    "    '''\n",
    "    nx = len(x)\n",
    "    xb = np.random.choice(x, (nx,N), replace=True)\n",
    "    #print np.shape(xb)\n",
    "    yb = func(xb,axis=0)\n",
    "    lower = np.percentile(yb, alpha*100)\n",
    "    upper = np.percentile(yb, (1.-alpha)*100)\n",
    "    return lower, upper\n",
    "\n",
    "def bootstrap_smooth(func, x, e, N, alpha=0.15):\n",
    "    '''\n",
    "    Run a boots\n",
    "    \n",
    "    Parameters:\n",
    "    func: function using x as arguement\n",
    "    x: data\n",
    "    N: number of repeat\n",
    "    alpha: percentile\n",
    "    '''\n",
    "    nx = len(x)\n",
    "    xx = x #+ np.random.normal(0,e,len(x))\n",
    "    xb = np.random.choice(xx, (nx,N), replace=True) + np.random.normal(0,e,(nx,N))\n",
    "    #print np.shape(xb)\n",
    "    yb = func(xb,axis=0)\n",
    "    lower = np.percentile(yb, alpha*100)\n",
    "    upper = np.percentile(yb, (1.-alpha)*100)\n",
    "    return lower, upper\n",
    "    "
   ]
  },
  {
   "cell_type": "code",
   "execution_count": 2,
   "metadata": {},
   "outputs": [],
   "source": [
    "'''\n",
    "Load sample data\n",
    "'''\n",
    "f = open('VT_selected.dat')\n",
    "VT = np.array([np.double(line) for line in f])\n",
    "f.close()"
   ]
  },
  {
   "cell_type": "code",
   "execution_count": 3,
   "metadata": {},
   "outputs": [
    {
     "data": {
      "image/png": "[encoded data removed]",
      "text/plain": [
       "<Figure size 640x480 with 1 Axes>"
      ]
     },
     "metadata": {},
     "output_type": "display_data"
    }
   ],
   "source": [
    "'''\n",
    "Check data\n",
    "'''\n",
    "plt.plot(VT,'k.')\n",
    "plt.show()"
   ]
  },
  {
   "cell_type": "code",
   "execution_count": 5,
   "metadata": {},
   "outputs": [
    {
     "name": "stdout",
     "output_type": "stream",
     "text": [
      "Bootstraping result with 15%-85% uncertainty:\n",
      "mean=53.5, low=43.6, high=63.3\n",
      "Bootstraping result with 2.5% and 97.5% uncertainty:\n",
      "mean=53.5, low=33.9, high=71.9\n",
      "smoothed bootstraping result:\n",
      "mean=53.5, low=42.6, high=63.0\n"
     ]
    }
   ],
   "source": [
    "'''\n",
    "Calculate mean and error of mean\n",
    "'''\n",
    "mean_V = np.mean(VT)\n",
    "cc = bootstrap(np.mean,VT,10000,alpha=0.15)\n",
    "print('Bootstraping result with 15%-85% uncertainty:')\n",
    "print('mean=%(m).1f, low=%(l).1f, high=%(h).1f' % {'m':mean_V,'l':cc[0],'h':cc[1]})\n",
    "\n",
    "cc = bootstrap(np.mean,VT,1000,alpha=0.025)\n",
    "print('Bootstraping result with 2.5% and 97.5% uncertainty:')\n",
    "print('mean=%(m).1f, low=%(l).1f, high=%(h).1f' % {'m':mean_V,'l':cc[0],'h':cc[1]})\n",
    "\n",
    "cc_sm = bootstrap_smooth(np.mean,VT,5.,100,alpha=0.15)\n",
    "print('smoothed bootstraping result:')\n",
    "print('mean=%(m).1f, low=%(l).1f, high=%(h).1f' % {'m':mean_V,'l':cc_sm[0],'h':cc_sm[1]})"
   ]
  },
  {
   "cell_type": "code",
   "execution_count": 6,
   "metadata": {},
   "outputs": [
    {
     "name": "stdout",
     "output_type": "stream",
     "text": [
      "Bootstraping result:\n",
      "std=93.4, low=87.3, high=98.7\n",
      "smoothed bootstraping result:\n",
      "std=93.4, low=87.9, high=98.8\n"
     ]
    }
   ],
   "source": [
    "'''\n",
    "Calculate std and error of std\n",
    "'''\n",
    "std_V = np.std(VT)\n",
    "cc = bootstrap(np.std,VT,1000,alpha=0.15)\n",
    "cc_sm = bootstrap_smooth(np.std,VT,10.,1000,alpha=0.15)\n",
    "print('Bootstraping result:')\n",
    "print('std=%(m).1f, low=%(l).1f, high=%(h).1f' % {'m':std_V,'l':cc[0],'h':cc[1]})\n",
    "print('smoothed bootstraping result:')\n",
    "print('std=%(m).1f, low=%(l).1f, high=%(h).1f' % {'m':std_V,'l':cc_sm[0],'h':cc_sm[1]})"
   ]
  },
  {
   "cell_type": "code",
   "execution_count": null,
   "metadata": {
    "collapsed": true,
    "jupyter": {
     "outputs_hidden": true
    }
   },
   "outputs": [],
   "source": []
  }
 ],
 "metadata": {
  "kernelspec": {
   "display_name": "Python 3",
   "language": "python",
   "name": "python3"
  },
  "language_info": {
   "codemirror_mode": {
    "name": "ipython",
    "version": 3
   },
   "file_extension": ".py",
   "mimetype": "text/x-python",
   "name": "python",
   "nbconvert_exporter": "python",
   "pygments_lexer": "ipython3",
   "version": "3.9.13"
  }
 },
 "nbformat": 4,
 "nbformat_minor": 4
}
